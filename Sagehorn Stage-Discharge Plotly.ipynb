{
 "cells": [
  {
   "cell_type": "code",
   "execution_count": 29,
   "metadata": {
    "collapsed": false
   },
   "outputs": [],
   "source": [
    "import pandas as pd\n",
    "import numpy as np\n",
    "import plotly.plotly as py\n",
    "import matplotlib.pyplot as plt\n",
    "import plotly.tools as tls"
   ]
  },
  {
   "cell_type": "code",
   "execution_count": 16,
   "metadata": {
    "collapsed": false
   },
   "outputs": [],
   "source": [
    "df = pd.read_csv('https://raw.githubusercontent.com/jessehahm/discharge/master/Data/Stage-Discharge%20Sagehorn%20-%20Sagehorn%20stage-discharge.csv')"
   ]
  },
  {
   "cell_type": "code",
   "execution_count": 17,
   "metadata": {
    "collapsed": false
   },
   "outputs": [
    {
     "data": {
      "text/html": [
       "<div>\n",
       "<table border=\"1\" class=\"dataframe\">\n",
       "  <thead>\n",
       "    <tr style=\"text-align: right;\">\n",
       "      <th></th>\n",
       "      <th>Datetime [YYYY-MM-DD HH:MM]-8</th>\n",
       "      <th>Local (clock) time</th>\n",
       "      <th>Creek</th>\n",
       "      <th>Staff gauge water level [m]</th>\n",
       "      <th>Water level height [m]</th>\n",
       "      <th>Discharge [m^3/s]</th>\n",
       "      <th>Runoff [ mm / day ]</th>\n",
       "      <th>Runoff [ mm / hour ]</th>\n",
       "      <th>Method</th>\n",
       "      <th>Reach</th>\n",
       "      <th>...</th>\n",
       "      <th>Upslope contributing area at staff gauge [ m^2 ]</th>\n",
       "      <th>Notes</th>\n",
       "      <th>Q [ft3/s]</th>\n",
       "      <th>A [ft^2]</th>\n",
       "      <th>W [ft]</th>\n",
       "      <th>Avg Velocity [ft/s]</th>\n",
       "      <th>Conductivity [microSiemens] ExtechE210</th>\n",
       "      <th>dissolved Oxygen (% L)</th>\n",
       "      <th>dissolved Oxygen (mg/L)</th>\n",
       "      <th>dO sensor</th>\n",
       "    </tr>\n",
       "  </thead>\n",
       "  <tbody>\n",
       "    <tr>\n",
       "      <th>0</th>\n",
       "      <td>2015-11-26 14:00</td>\n",
       "      <td>NaN</td>\n",
       "      <td>HANK</td>\n",
       "      <td>0.165</td>\n",
       "      <td>0.19</td>\n",
       "      <td>0.00</td>\n",
       "      <td>0.0</td>\n",
       "      <td>0.00</td>\n",
       "      <td>NaN</td>\n",
       "      <td>Staff gauge</td>\n",
       "      <td>...</td>\n",
       "      <td>5249523.0</td>\n",
       "      <td>NaN</td>\n",
       "      <td>NaN</td>\n",
       "      <td>NaN</td>\n",
       "      <td>NaN</td>\n",
       "      <td>NaN</td>\n",
       "      <td>NaN</td>\n",
       "      <td>NaN</td>\n",
       "      <td>NaN</td>\n",
       "      <td>NaN</td>\n",
       "    </tr>\n",
       "    <tr>\n",
       "      <th>1</th>\n",
       "      <td>2015-11-26 13:00</td>\n",
       "      <td>NaN</td>\n",
       "      <td>DRY</td>\n",
       "      <td>0.000</td>\n",
       "      <td>0.00</td>\n",
       "      <td>0.00</td>\n",
       "      <td>0.0</td>\n",
       "      <td>0.00</td>\n",
       "      <td>NaN</td>\n",
       "      <td>Staff gauge</td>\n",
       "      <td>...</td>\n",
       "      <td>3459518.0</td>\n",
       "      <td>NaN</td>\n",
       "      <td>NaN</td>\n",
       "      <td>NaN</td>\n",
       "      <td>NaN</td>\n",
       "      <td>NaN</td>\n",
       "      <td>NaN</td>\n",
       "      <td>NaN</td>\n",
       "      <td>NaN</td>\n",
       "      <td>NaN</td>\n",
       "    </tr>\n",
       "    <tr>\n",
       "      <th>2</th>\n",
       "      <td>2015-12-10 14:02</td>\n",
       "      <td>NaN</td>\n",
       "      <td>HANK</td>\n",
       "      <td>0.735</td>\n",
       "      <td>0.82</td>\n",
       "      <td>2.52</td>\n",
       "      <td>62.9</td>\n",
       "      <td>2.62</td>\n",
       "      <td>Wading rod</td>\n",
       "      <td>30 m upstream of Sherwood Rd Bridge</td>\n",
       "      <td>...</td>\n",
       "      <td>3459518.0</td>\n",
       "      <td>we agreed that these were reasonable based on ...</td>\n",
       "      <td>NaN</td>\n",
       "      <td>NaN</td>\n",
       "      <td>NaN</td>\n",
       "      <td>NaN</td>\n",
       "      <td>NaN</td>\n",
       "      <td>NaN</td>\n",
       "      <td>NaN</td>\n",
       "      <td>NaN</td>\n",
       "    </tr>\n",
       "    <tr>\n",
       "      <th>3</th>\n",
       "      <td>2015-12-10 12:17</td>\n",
       "      <td>NaN</td>\n",
       "      <td>HANK</td>\n",
       "      <td>0.735</td>\n",
       "      <td>0.82</td>\n",
       "      <td>0.99</td>\n",
       "      <td>16.3</td>\n",
       "      <td>0.68</td>\n",
       "      <td>Salt dilution (slug)</td>\n",
       "      <td>100 m upstream of gauge</td>\n",
       "      <td>...</td>\n",
       "      <td>5249523.0</td>\n",
       "      <td>NaN</td>\n",
       "      <td>NaN</td>\n",
       "      <td>NaN</td>\n",
       "      <td>NaN</td>\n",
       "      <td>NaN</td>\n",
       "      <td>NaN</td>\n",
       "      <td>NaN</td>\n",
       "      <td>NaN</td>\n",
       "      <td>NaN</td>\n",
       "    </tr>\n",
       "    <tr>\n",
       "      <th>4</th>\n",
       "      <td>2015-12-10 13:03</td>\n",
       "      <td>NaN</td>\n",
       "      <td>HANK</td>\n",
       "      <td>0.745</td>\n",
       "      <td>0.84</td>\n",
       "      <td>1.23</td>\n",
       "      <td>20.2</td>\n",
       "      <td>0.84</td>\n",
       "      <td>Salt dilution (slug)</td>\n",
       "      <td>100 m upstream of gauge</td>\n",
       "      <td>...</td>\n",
       "      <td>5249523.0</td>\n",
       "      <td>NaN</td>\n",
       "      <td>NaN</td>\n",
       "      <td>NaN</td>\n",
       "      <td>NaN</td>\n",
       "      <td>NaN</td>\n",
       "      <td>NaN</td>\n",
       "      <td>NaN</td>\n",
       "      <td>NaN</td>\n",
       "      <td>NaN</td>\n",
       "    </tr>\n",
       "  </tbody>\n",
       "</table>\n",
       "<p>5 rows × 24 columns</p>\n",
       "</div>"
      ],
      "text/plain": [
       "  Datetime [YYYY-MM-DD HH:MM]-8 Local (clock) time Creek  \\\n",
       "0              2015-11-26 14:00                NaN  HANK   \n",
       "1              2015-11-26 13:00                NaN   DRY   \n",
       "2              2015-12-10 14:02                NaN  HANK   \n",
       "3              2015-12-10 12:17                NaN  HANK   \n",
       "4              2015-12-10 13:03                NaN  HANK   \n",
       "\n",
       "   Staff gauge water level [m]  Water level height [m]  Discharge [m^3/s]  \\\n",
       "0                        0.165                    0.19               0.00   \n",
       "1                        0.000                    0.00               0.00   \n",
       "2                        0.735                    0.82               2.52   \n",
       "3                        0.735                    0.82               0.99   \n",
       "4                        0.745                    0.84               1.23   \n",
       "\n",
       "   Runoff [ mm / day ]  Runoff [ mm / hour ]                Method  \\\n",
       "0                  0.0                  0.00                   NaN   \n",
       "1                  0.0                  0.00                   NaN   \n",
       "2                 62.9                  2.62            Wading rod   \n",
       "3                 16.3                  0.68  Salt dilution (slug)   \n",
       "4                 20.2                  0.84  Salt dilution (slug)   \n",
       "\n",
       "                                 Reach    ...      \\\n",
       "0                          Staff gauge    ...       \n",
       "1                          Staff gauge    ...       \n",
       "2  30 m upstream of Sherwood Rd Bridge    ...       \n",
       "3              100 m upstream of gauge    ...       \n",
       "4              100 m upstream of gauge    ...       \n",
       "\n",
       "   Upslope contributing area at staff gauge [ m^2 ]  \\\n",
       "0                                         5249523.0   \n",
       "1                                         3459518.0   \n",
       "2                                         3459518.0   \n",
       "3                                         5249523.0   \n",
       "4                                         5249523.0   \n",
       "\n",
       "                                               Notes  Q [ft3/s] A [ft^2]  \\\n",
       "0                                                NaN        NaN      NaN   \n",
       "1                                                NaN        NaN      NaN   \n",
       "2  we agreed that these were reasonable based on ...        NaN      NaN   \n",
       "3                                                NaN        NaN      NaN   \n",
       "4                                                NaN        NaN      NaN   \n",
       "\n",
       "   W [ft] Avg Velocity [ft/s]  Conductivity [microSiemens] ExtechE210  \\\n",
       "0     NaN                 NaN                                     NaN   \n",
       "1     NaN                 NaN                                     NaN   \n",
       "2     NaN                 NaN                                     NaN   \n",
       "3     NaN                 NaN                                     NaN   \n",
       "4     NaN                 NaN                                     NaN   \n",
       "\n",
       "   dissolved Oxygen (% L)  dissolved Oxygen (mg/L)  dO sensor  \n",
       "0                     NaN                      NaN        NaN  \n",
       "1                     NaN                      NaN        NaN  \n",
       "2                     NaN                      NaN        NaN  \n",
       "3                     NaN                      NaN        NaN  \n",
       "4                     NaN                      NaN        NaN  \n",
       "\n",
       "[5 rows x 24 columns]"
      ]
     },
     "execution_count": 17,
     "metadata": {},
     "output_type": "execute_result"
    }
   ],
   "source": [
    "df.head()"
   ]
  },
  {
   "cell_type": "code",
   "execution_count": 18,
   "metadata": {
    "collapsed": true
   },
   "outputs": [],
   "source": [
    "dry =df[df.Creek=='DRY']"
   ]
  },
  {
   "cell_type": "code",
   "execution_count": null,
   "metadata": {
    "collapsed": false
   },
   "outputs": [],
   "source": [
    "fig = plt.figure()\n",
    "# plt.yscale('log')\n",
    "\n",
    "plt.scatter(dry['Staff gauge water level [m]'],dry['Discharge [m^3/s]'])\n",
    "# py.iplot_mpl(fig)\n",
    "plt.xlabel('Staff gauge water level [m]')\n",
    "plt.ylabel('Discharge [m^3/s]')\n",
    "plt.title('Dry Creek, Sagehorn')\n",
    "# plt.show()\n",
    "\n",
    "plotly_fig = tls.mpl_to_plotly(fig)\n",
    "unique_url = py.plot(plotly_fig)"
   ]
  },
  {
   "cell_type": "code",
   "execution_count": 33,
   "metadata": {
    "collapsed": false
   },
   "outputs": [
    {
     "data": {
      "text/plain": [
       "u'https://plot.ly/~wjhahm/10'"
      ]
     },
     "execution_count": 33,
     "metadata": {},
     "output_type": "execute_result"
    }
   ],
   "source": [
    "unique_url"
   ]
  },
  {
   "cell_type": "code",
   "execution_count": null,
   "metadata": {
    "collapsed": true
   },
   "outputs": [],
   "source": []
  }
 ],
 "metadata": {
  "kernelspec": {
   "display_name": "Python 2",
   "language": "python",
   "name": "python2"
  },
  "language_info": {
   "codemirror_mode": {
    "name": "ipython",
    "version": 2
   },
   "file_extension": ".py",
   "mimetype": "text/x-python",
   "name": "python",
   "nbconvert_exporter": "python",
   "pygments_lexer": "ipython2",
   "version": "2.7.11"
  }
 },
 "nbformat": 4,
 "nbformat_minor": 0
}
